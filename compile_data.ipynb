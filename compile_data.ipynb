{
 "cells": [
  {
   "cell_type": "markdown",
   "id": "c47b389e-38b1-4f80-b9c4-0f680f430a98",
   "metadata": {},
   "source": [
    "# Compile Data"
   ]
  },
  {
   "cell_type": "code",
   "execution_count": 1,
   "id": "5080d8dd-9d2b-4c9e-8d72-8fb915958d57",
   "metadata": {},
   "outputs": [],
   "source": [
    "import re\n",
    "import pandas as pd\n",
    "import numpy as np\n",
    "from tqdm.notebook import tqdm\n",
    "_\n",
    "# Spotify API \n",
    "import spotipy\n",
    "from spotipy.oauth2 import SpotifyOAuth\n",
    "_\n",
    "# Genius API\n",
    "from lyricsgenius import Genius\n",
    "_\n",
    "# Web scraping\n",
    "import time\n",
    "import requests\n",
    "from bs4 import BeautifulSoup\n",
    "_\n",
    "# Misc\n",
    "import sys\n",
    "sys.path.append('/Users/**********')\n",
    "import cred"
   ]
  },
  {
   "cell_type": "markdown",
   "id": "4cf65866-9c95-498d-b524-68fdc65f3682",
   "metadata": {},
   "source": [
    "### Spotify API"
   ]
  },
  {
   "cell_type": "markdown",
   "id": "1c96c862-0347-4093-b560-0896cf99f7b2",
   "metadata": {},
   "source": [
    "Instantiate Spotipy object:"
   ]
  },
  {
   "cell_type": "code",
   "execution_count": 2,
   "id": "9358c7cc-1cf7-4f17-99e2-03deb6ad0805",
   "metadata": {},
   "outputs": [],
   "source": [
    "SP = spotipy.Spotify(\n",
    "    auth_manager=SpotifyOAuth(\n",
    "        redirect_uri=cred.SPOTIFY_REDIRECT_URI, \n",
    "        client_id=cred.SPOTIFY_CLIENT_ID, \n",
    "        client_secret=cred.SPOTIFY_CLIENT_SECRET\n",
    "    )\n",
    ")"
   ]
  },
  {
   "cell_type": "markdown",
   "id": "307fd15b-0c0b-43ae-b02d-d74207094764",
   "metadata": {},
   "source": [
    "Compile Spotify playlist ID numbers for each artist:"
   ]
  },
  {
   "cell_type": "code",
   "execution_count": 3,
   "id": "e96f44ac-b632-4db3-aa18-d661cc58c9d9",
   "metadata": {},
   "outputs": [],
   "source": [
    "ARTIST_ID = {\n",
    "    'Drake': '37i9dQZF1DX7QOv5kjbU68',\n",
    "    'Eminem': '37i9dQZF1DZ06evO4gTUOY',\n",
    "    'Nicki Minaj': '37i9dQZF1DZ06evO0684jS',\n",
    "    'Nas': '37i9dQZF1DZ06evO18oyZi',\n",
    "    'Future': '37i9dQZF1DZ06evO133u6s',\n",
    "    'Dave': '37i9dQZF1DZ06evO3Y4Tg4',\n",
    "    '2Pac': '37i9dQZF1DZ06evO17QsVi',\n",
    "    'Kendrick Lamar': '37i9dQZF1DZ06evO1IPOOk',\n",
    "    'Rapsody': '37i9dQZF1DZ06evO41iwLu',\n",
    "    'Skepta': '37i9dQZF1DZ06evO1nbU8U',\n",
    "    'J. Cole': '37i9dQZF1DZ06evO3K21mU'\n",
    "}"
   ]
  },
  {
   "cell_type": "markdown",
   "id": "1cbda02a-0da8-4701-bed5-679ddee1ec11",
   "metadata": {},
   "source": [
    "Grab top 50 tracks for each artist and extract track info:<br><br>\n",
    "**NOTE:** Since these playlists contain songs where the key artist is not the main aritst of the song I'll be adding a `main_artist` column to reference later on so I can access all lyrics correctly."
   ]
  },
  {
   "cell_type": "code",
   "execution_count": 4,
   "id": "04f52afb-249c-430b-bfa1-1bda9103fb0b",
   "metadata": {},
   "outputs": [
    {
     "data": {
      "application/vnd.jupyter.widget-view+json": {
       "model_id": "a4a88d6d57854669ab04816cb87622a6",
       "version_major": 2,
       "version_minor": 0
      },
      "text/plain": [
       "  0%|          | 0/11 [00:00<?, ?it/s]"
      ]
     },
     "metadata": {},
     "output_type": "display_data"
    }
   ],
   "source": [
    "data_dict = {'track_name': [], 'main_artist': [], 'key_artist': [], 'duration_ms': [], 'is_explicit': [], 'track_uri': []}\n",
    "\n",
    "for key_artist, id in tqdm(ARTIST_ID.items(), total=len(ARTIST_ID)):\n",
    "    playlist_tracks = SP.playlist_items(playlist_id=id)\n",
    "    # Extract track names, track duration and if track is explicit:\n",
    "    track_names = [track['track']['name'] for track in playlist_tracks['items']][:50]\n",
    "    main_artists = [track['track']['artists'][0]['name'] for track in playlist_tracks['items']][:50]\n",
    "    is_explicit = [track['track']['explicit'] for track in playlist_tracks['items']][:50]\n",
    "    track_duration = [track['track']['duration_ms'] for track in playlist_tracks['items']][:50]\n",
    "    track_uri = [track['track']['uri'] for track in playlist_tracks['items']][:50]\n",
    "\n",
    "    data_dict['track_name'] += track_names\n",
    "    data_dict['main_artist'] += main_artists\n",
    "    data_dict['key_artist'] += [key_artist for _ in range(50)]\n",
    "    data_dict['duration_ms'] += track_duration\n",
    "    data_dict['is_explicit'] += is_explicit\n",
    "    data_dict['track_uri'] += track_uri"
   ]
  },
  {
   "cell_type": "markdown",
   "id": "240abf94-8819-4022-93f8-fb1dc6779432",
   "metadata": {},
   "source": [
    "Convert data into a Pandas dataframe:"
   ]
  },
  {
   "cell_type": "code",
   "execution_count": 5,
   "id": "b27e570b-9485-482b-8a67-10add340aa58",
   "metadata": {},
   "outputs": [
    {
     "data": {
      "text/html": [
       "<div>\n",
       "<style scoped>\n",
       "    .dataframe tbody tr th:only-of-type {\n",
       "        vertical-align: middle;\n",
       "    }\n",
       "\n",
       "    .dataframe tbody tr th {\n",
       "        vertical-align: top;\n",
       "    }\n",
       "\n",
       "    .dataframe thead th {\n",
       "        text-align: right;\n",
       "    }\n",
       "</style>\n",
       "<table border=\"1\" class=\"dataframe\">\n",
       "  <thead>\n",
       "    <tr style=\"text-align: right;\">\n",
       "      <th></th>\n",
       "      <th>track_name</th>\n",
       "      <th>main_artist</th>\n",
       "      <th>key_artist</th>\n",
       "      <th>duration_ms</th>\n",
       "      <th>is_explicit</th>\n",
       "      <th>track_uri</th>\n",
       "    </tr>\n",
       "  </thead>\n",
       "  <tbody>\n",
       "    <tr>\n",
       "      <th>184</th>\n",
       "      <td>I Love This Feeling</td>\n",
       "      <td>Nas</td>\n",
       "      <td>Nas</td>\n",
       "      <td>197519</td>\n",
       "      <td>True</td>\n",
       "      <td>spotify:track:3UDor25dsBp55meFUeOpx2</td>\n",
       "    </tr>\n",
       "    <tr>\n",
       "      <th>404</th>\n",
       "      <td>The Law (feat. Mac Miller &amp; Rapsody)</td>\n",
       "      <td>Ab-Soul</td>\n",
       "      <td>Rapsody</td>\n",
       "      <td>329207</td>\n",
       "      <td>True</td>\n",
       "      <td>spotify:track:17vQTNbvhpvi92qOnDOFHB</td>\n",
       "    </tr>\n",
       "    <tr>\n",
       "      <th>192</th>\n",
       "      <td>We Are</td>\n",
       "      <td>Justin Bieber</td>\n",
       "      <td>Nas</td>\n",
       "      <td>202960</td>\n",
       "      <td>False</td>\n",
       "      <td>spotify:track:1m6FkAtWVloxIRHKl7pBDP</td>\n",
       "    </tr>\n",
       "    <tr>\n",
       "      <th>47</th>\n",
       "      <td>Papi’s Home</td>\n",
       "      <td>Drake</td>\n",
       "      <td>Drake</td>\n",
       "      <td>178623</td>\n",
       "      <td>True</td>\n",
       "      <td>spotify:track:6jy9yJfgCsMHdu2Oz4BGKX</td>\n",
       "    </tr>\n",
       "    <tr>\n",
       "      <th>494</th>\n",
       "      <td>Skepta x Fumez The Engineer - Plugged In</td>\n",
       "      <td>Fumez The Engineer</td>\n",
       "      <td>Skepta</td>\n",
       "      <td>158333</td>\n",
       "      <td>True</td>\n",
       "      <td>spotify:track:77LDURvNd8YwpQdynKs7oI</td>\n",
       "    </tr>\n",
       "    <tr>\n",
       "      <th>228</th>\n",
       "      <td>Stand On It (with Future)</td>\n",
       "      <td>Yeat</td>\n",
       "      <td>Future</td>\n",
       "      <td>180800</td>\n",
       "      <td>True</td>\n",
       "      <td>spotify:track:7H3lr9bsPBGFx5NyTuBBGc</td>\n",
       "    </tr>\n",
       "    <tr>\n",
       "      <th>220</th>\n",
       "      <td>LOVE YOU BETTER</td>\n",
       "      <td>Future</td>\n",
       "      <td>Future</td>\n",
       "      <td>129479</td>\n",
       "      <td>True</td>\n",
       "      <td>spotify:track:4XJRpBOG0bU3Nxnvam3FnC</td>\n",
       "    </tr>\n",
       "    <tr>\n",
       "      <th>17</th>\n",
       "      <td>STAYING ALIVE (feat. Drake &amp; Lil Baby)</td>\n",
       "      <td>DJ Khaled</td>\n",
       "      <td>Drake</td>\n",
       "      <td>178176</td>\n",
       "      <td>True</td>\n",
       "      <td>spotify:track:0g2Bbgy7P41pFjMWJuzsf4</td>\n",
       "    </tr>\n",
       "    <tr>\n",
       "      <th>487</th>\n",
       "      <td>Reflecting</td>\n",
       "      <td>Skepta</td>\n",
       "      <td>Skepta</td>\n",
       "      <td>198493</td>\n",
       "      <td>False</td>\n",
       "      <td>spotify:track:7CQRAzkxJoD0thxkixCpSL</td>\n",
       "    </tr>\n",
       "    <tr>\n",
       "      <th>502</th>\n",
       "      <td>Work Out</td>\n",
       "      <td>J. Cole</td>\n",
       "      <td>J. Cole</td>\n",
       "      <td>235320</td>\n",
       "      <td>True</td>\n",
       "      <td>spotify:track:2wAJTrFhCnQyNSD3oUgTZO</td>\n",
       "    </tr>\n",
       "  </tbody>\n",
       "</table>\n",
       "</div>"
      ],
      "text/plain": [
       "                                   track_name         main_artist key_artist  \\\n",
       "184                       I Love This Feeling                 Nas        Nas   \n",
       "404      The Law (feat. Mac Miller & Rapsody)             Ab-Soul    Rapsody   \n",
       "192                                    We Are       Justin Bieber        Nas   \n",
       "47                                Papi’s Home               Drake      Drake   \n",
       "494  Skepta x Fumez The Engineer - Plugged In  Fumez The Engineer     Skepta   \n",
       "228                 Stand On It (with Future)                Yeat     Future   \n",
       "220                           LOVE YOU BETTER              Future     Future   \n",
       "17     STAYING ALIVE (feat. Drake & Lil Baby)           DJ Khaled      Drake   \n",
       "487                                Reflecting              Skepta     Skepta   \n",
       "502                                  Work Out             J. Cole    J. Cole   \n",
       "\n",
       "     duration_ms  is_explicit                             track_uri  \n",
       "184       197519         True  spotify:track:3UDor25dsBp55meFUeOpx2  \n",
       "404       329207         True  spotify:track:17vQTNbvhpvi92qOnDOFHB  \n",
       "192       202960        False  spotify:track:1m6FkAtWVloxIRHKl7pBDP  \n",
       "47        178623         True  spotify:track:6jy9yJfgCsMHdu2Oz4BGKX  \n",
       "494       158333         True  spotify:track:77LDURvNd8YwpQdynKs7oI  \n",
       "228       180800         True  spotify:track:7H3lr9bsPBGFx5NyTuBBGc  \n",
       "220       129479         True  spotify:track:4XJRpBOG0bU3Nxnvam3FnC  \n",
       "17        178176         True  spotify:track:0g2Bbgy7P41pFjMWJuzsf4  \n",
       "487       198493        False  spotify:track:7CQRAzkxJoD0thxkixCpSL  \n",
       "502       235320         True  spotify:track:2wAJTrFhCnQyNSD3oUgTZO  "
      ]
     },
     "execution_count": 5,
     "metadata": {},
     "output_type": "execute_result"
    }
   ],
   "source": [
    "df = pd.DataFrame(data_dict)\n",
    "_\n",
    "df.sample(10)"
   ]
  },
  {
   "cell_type": "markdown",
   "id": "0e161948-e224-42e5-8dbe-073f3db298b2",
   "metadata": {},
   "source": [
    "Add track BPM:"
   ]
  },
  {
   "cell_type": "code",
   "execution_count": 6,
   "id": "f4cd4c7c-4f1d-4e53-be0c-c5c58a7b05bc",
   "metadata": {},
   "outputs": [
    {
     "data": {
      "application/vnd.jupyter.widget-view+json": {
       "model_id": "6cdd69e9e6574e1380002e720f7cadd4",
       "version_major": 2,
       "version_minor": 0
      },
      "text/plain": [
       "  0%|          | 0/550 [00:00<?, ?it/s]"
      ]
     },
     "metadata": {},
     "output_type": "display_data"
    }
   ],
   "source": [
    "for index, row in tqdm(df.iterrows(), total=len(df)):\n",
    "    track_features = SP.audio_features(row['track_uri'])\n",
    "    BPM = track_features[0]['tempo']\n",
    "    \n",
    "    df.loc[index, 'track_bpm'] = BPM"
   ]
  },
  {
   "cell_type": "markdown",
   "id": "4d4fdb44-7679-479a-8c7b-9107c216966e",
   "metadata": {},
   "source": [
    "### Rap Genius API"
   ]
  },
  {
   "cell_type": "code",
   "execution_count": 8,
   "id": "1843e44e-9c1d-4cbd-b5e4-fed5d4e39db1",
   "metadata": {},
   "outputs": [],
   "source": [
    "G = Genius(cred.GENIUS_ACCESS_TOKEN)"
   ]
  },
  {
   "cell_type": "markdown",
   "id": "b2bde14a-9c24-4fbb-899f-a815dd416be8",
   "metadata": {},
   "source": [
    "Get lyrics for each track:"
   ]
  },
  {
   "cell_type": "code",
   "execution_count": 38,
   "id": "181a027c-c687-4b85-b053-a9e40c676beb",
   "metadata": {},
   "outputs": [],
   "source": [
    "for index, row in tqdm(df.iterrows(), total=len(df)):\n",
    "    track_name = row['track_name']\n",
    "    main_artist = row['main_artist']\n",
    "\n",
    "    # Remove features and symbols from track name:\n",
    "    track_name = track_name.split(' (')[0].strip().replace('&', 'and')\n",
    "\n",
    "    # Fetch track data:\n",
    "    track_data = G.search_song(track_name, main_artist)\n",
    "    raw_lyrics = track_data.lyrics\n",
    "\n",
    "    # Add lyrics to current row:\n",
    "    df.loc[index, 'raw_lyrics'] = raw_lyrics"
   ]
  },
  {
   "cell_type": "markdown",
   "id": "5a380b29-b85e-43e8-ac5d-281d55e973ae",
   "metadata": {},
   "source": [
    "Drop NaN values:"
   ]
  },
  {
   "cell_type": "code",
   "execution_count": 39,
   "id": "aff67ea0-5327-434d-a5aa-74469af8f336",
   "metadata": {},
   "outputs": [],
   "source": [
    "df = df.dropna()"
   ]
  },
  {
   "cell_type": "code",
   "execution_count": 40,
   "id": "c5fa4250-ba7e-468c-a9a8-4c09792742cf",
   "metadata": {},
   "outputs": [],
   "source": [
    "# SAVE CHECKPOINT\n",
    "df.to_csv('test_data/test_lyrics.csv', index=False)"
   ]
  },
  {
   "cell_type": "markdown",
   "id": "518e3dd4-e9cc-4076-bc33-bf58c6ff8e99",
   "metadata": {},
   "source": [
    "### Restructuring Text"
   ]
  },
  {
   "cell_type": "markdown",
   "id": "053e8012-7463-4042-9e2c-e1a8c95c4c5e",
   "metadata": {},
   "source": [
    "Extract lyrics performed by key artists only:"
   ]
  },
  {
   "cell_type": "code",
   "execution_count": 41,
   "id": "dc059ac1-2b95-469a-a12b-32dea026cb5a",
   "metadata": {},
   "outputs": [
    {
     "data": {
      "application/vnd.jupyter.widget-view+json": {
       "model_id": "7b6faa219e064fa79a720585bf49db68",
       "version_major": 2,
       "version_minor": 0
      },
      "text/plain": [
       "  0%|          | 0/549 [00:00<?, ?it/s]"
      ]
     },
     "metadata": {},
     "output_type": "display_data"
    }
   ],
   "source": [
    "for index, row in tqdm(df.iterrows(), total=len(df)):\n",
    "    key_artist = row['key_artist']\n",
    "    text = row['raw_lyrics']  # Lyrics\n",
    "\n",
    "    # Grab verse credits:\n",
    "    # NOTE: unfortunately, not all tracks have verse credits so it gets difficult \n",
    "    # trying to indentify which verses were performed by key artists\n",
    "    verse_credits = re.findall(\"\\[(.*?)\\]\", text)\n",
    "    \n",
    "    # Check if key artist is mentioned in any verse credits for current track:\n",
    "    if key_artist in \" \".join(verse_credits):\n",
    "        key_artist_text = \"\"\n",
    "        for credit in verse_credits:\n",
    "            # If credit match found:\n",
    "            if key_artist in credit:\n",
    "                # Extract valid text\n",
    "                extracted_text = text.split('[' + credit + ']')[1].split(\"[\")[0].strip()\n",
    "                key_artist_text += extracted_text\n",
    "\n",
    "        # Add extracted lyrics to current row:\n",
    "        df.loc[index, 'extracted_lyrics'] = key_artist_text\n",
    "    \n",
    "    # No credits available, so add all text:\n",
    "    else:\n",
    "        # Remove all credits and whitespace from text:\n",
    "        text = re.sub(\"\\[(.*?)\\]\", '', text)\n",
    "        text = \"\\n\".join(line for line in text.split('\\n')[1:] if line)\n",
    "        df.loc[index, 'extracted_lyrics'] = text"
   ]
  },
  {
   "cell_type": "markdown",
   "id": "cb22105d-72ea-49ea-bb0f-820f0d37388d",
   "metadata": {},
   "source": [
    "Drop duplicated cells:"
   ]
  },
  {
   "cell_type": "code",
   "execution_count": 42,
   "id": "cef3653c-55ed-4282-9804-8682a4f18a21",
   "metadata": {},
   "outputs": [],
   "source": [
    "df = df[~df.duplicated(subset='extracted_lyrics')]\n",
    "df = df[~df.duplicated(subset='track_name')]"
   ]
  },
  {
   "cell_type": "markdown",
   "id": "4b36b639-658d-40e9-8d02-5858a879b57a",
   "metadata": {},
   "source": [
    "Add newlines to separate bars accurately:"
   ]
  },
  {
   "cell_type": "code",
   "execution_count": 43,
   "id": "40fe82e1-411f-4b03-a426-cc0f9b9016fc",
   "metadata": {},
   "outputs": [],
   "source": [
    "def format_bars(text: str) -> str:\n",
    "    \"\"\"\n",
    "    Matches pattern to indentify where to insert newlines.\n",
    "    The purpose of this is to count bars in each track later on.\n",
    "    \"\"\"\n",
    "    index_matches = [\n",
    "        (match.start(0), match.end(0)) \\\n",
    "        for match in re.finditer(\"[a-z0-9\\?)](?=)[A-Z]\", text)\n",
    "    ]\n",
    "    \n",
    "    # To insert newlines, convert string to list\n",
    "    text = list(text)\n",
    "    offset = 1\n",
    "    \n",
    "    for index_start, index_end in index_matches:\n",
    "        text.insert(index_start + offset, '\\n')\n",
    "        offset += 1  # Increase offset by 1 to balance newlines\n",
    "\n",
    "    return \"\".join(text)\n",
    "\n",
    "\n",
    "def format_bars_P2(text: str) -> str:\n",
    "    \"\"\"\n",
    "    Removing front-end apostrophes from word and spacing newlines.\n",
    "    \"\"\"\n",
    "    index_matches = [\n",
    "        (match.start(0), match.end(0)) \\\n",
    "        for match in re.finditer(\"[a-zA-Z](?<=)['](?=)[A-Z]\", text)\n",
    "    ]\n",
    "    \n",
    "    text = list(text)\n",
    "    offset = 1\n",
    "\n",
    "    for index_start, index_end in index_matches:\n",
    "        text.insert(index_start + offset, '\\n')\n",
    "        offset += 1\n",
    "\n",
    "    return \"\".join(text)\n",
    "\n",
    "_\n",
    "df['corrected_newlines'] = df['extracted_lyrics'].apply(format_bars)\n",
    "df['corrected_newlines'] = df['corrected_newlines'].apply(format_bars_P2)"
   ]
  },
  {
   "cell_type": "markdown",
   "id": "6c46cdf9-682b-4555-a088-fc7a17a13b74",
   "metadata": {},
   "source": [
    "Validate text extracted:"
   ]
  },
  {
   "cell_type": "code",
   "execution_count": 44,
   "id": "75a57fd5-07cf-41e4-ab14-0bb204408368",
   "metadata": {},
   "outputs": [],
   "source": [
    "# Remove rows with a character count less than 100\n",
    "df = df[~df['corrected_newlines'].apply(lambda x: len(x) < 100)]"
   ]
  },
  {
   "cell_type": "markdown",
   "id": "bfde9dab-3652-42d9-9fcf-44801d21742c",
   "metadata": {},
   "source": [
    "Remove noise:"
   ]
  },
  {
   "cell_type": "code",
   "execution_count": 48,
   "id": "ed345692-11f0-40b2-b0be-da64f38cc597",
   "metadata": {},
   "outputs": [],
   "source": [
    "# Remove headers from raw lyrics for readability\n",
    "df['raw_lyrics'] = df['raw_lyrics'].apply(lambda x: \" \".join(x.split('\\n')[1:]))\n",
    "_\n",
    "# -------- ONLY APPLYING FURTHER CHANGES TO CORRECTED_NEWLINES ---------------------\n",
    "df['corrected_newlines'] = df['corrected_newlines'].str.replace('\\u2005', ' ').str.replace('\\u205f', ' ') # Remove unicode tags\n",
    "df['corrected_newlines'] = df['corrected_newlines'].apply(lambda x: re.sub(\"[0-9](?<=)|[0-9](?=)[\\nEmbed]\", '', x))  # Remove embeded tags\n",
    "df['corrected_newlines'] = df['corrected_newlines'].str.replace('Embed', '')"
   ]
  },
  {
   "cell_type": "markdown",
   "id": "446f6916-634b-41a0-95a2-daa3dc5a49b3",
   "metadata": {},
   "source": [
    "### Save data"
   ]
  },
  {
   "cell_type": "markdown",
   "id": "e55fe12e-bdda-4812-b357-bd888b041a85",
   "metadata": {},
   "source": [
    "Reformat dataframe:"
   ]
  },
  {
   "cell_type": "code",
   "execution_count": 49,
   "id": "e6de8dc2-b8b4-418c-80ba-83f5329e0b7e",
   "metadata": {},
   "outputs": [],
   "source": [
    "df = (df\n",
    " .drop(columns=['extracted_lyrics', 'main_artist'])\n",
    " .rename(columns={'corrected_newlines': 'artist_verses', 'key_artist': 'artist'})\n",
    ")"
   ]
  },
  {
   "cell_type": "code",
   "execution_count": 50,
   "id": "f345d49a-4853-4926-a1aa-00a8d063f6b6",
   "metadata": {},
   "outputs": [],
   "source": [
    "df.to_csv('raw_data/lyrics_raw.csv', index=False)"
   ]
  }
 ],
 "metadata": {
  "kernelspec": {
   "display_name": "fullstack",
   "language": "python",
   "name": "fullstack"
  },
  "language_info": {
   "codemirror_mode": {
    "name": "ipython",
    "version": 3
   },
   "file_extension": ".py",
   "mimetype": "text/x-python",
   "name": "python",
   "nbconvert_exporter": "python",
   "pygments_lexer": "ipython3",
   "version": "3.11.5"
  }
 },
 "nbformat": 4,
 "nbformat_minor": 5
}
