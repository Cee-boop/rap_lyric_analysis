{
 "cells": [
  {
   "cell_type": "markdown",
   "id": "c47b389e-38b1-4f80-b9c4-0f680f430a98",
   "metadata": {},
   "source": [
    "# Building the Database"
   ]
  },
  {
   "cell_type": "code",
   "execution_count": 8,
   "id": "5080d8dd-9d2b-4c9e-8d72-8fb915958d57",
   "metadata": {},
   "outputs": [],
   "source": [
    "import re\n",
    "import pandas as pd\n",
    "import numpy as np\n",
    "from tqdm.notebook import tqdm\n",
    "_\n",
    "# Spotify API \n",
    "import spotipy\n",
    "from spotipy.oauth2 import SpotifyOAuth\n",
    "_\n",
    "# Web scraping\n",
    "import time\n",
    "import requests\n",
    "from bs4 import BeautifulSoup\n",
    "_\n",
    "# Misc\n",
    "import sys\n",
    "sys.path.append('/Users/chantellefourlze/PycharmProjects/machine-learning/spotify')\n",
    "import cred"
   ]
  },
  {
   "cell_type": "markdown",
   "id": "4cf65866-9c95-498d-b524-68fdc65f3682",
   "metadata": {},
   "source": [
    "### Spotify API"
   ]
  },
  {
   "cell_type": "markdown",
   "id": "1c96c862-0347-4093-b560-0896cf99f7b2",
   "metadata": {},
   "source": [
    "Instantiate Spotipy object:"
   ]
  },
  {
   "cell_type": "code",
   "execution_count": 3,
   "id": "9358c7cc-1cf7-4f17-99e2-03deb6ad0805",
   "metadata": {},
   "outputs": [],
   "source": [
    "SP = spotipy.Spotify(\n",
    "    auth_manager=SpotifyOAuth(\n",
    "        redirect_uri=cred.REDIRECT_URI, \n",
    "        client_id=cred.CLIENT_ID, \n",
    "        client_secret=cred.CLIENT_SECRET\n",
    "    )\n",
    ")"
   ]
  },
  {
   "cell_type": "markdown",
   "id": "307fd15b-0c0b-43ae-b02d-d74207094764",
   "metadata": {},
   "source": [
    "Compile Spotify playlist ID numbers for each artist:"
   ]
  },
  {
   "cell_type": "code",
   "execution_count": 4,
   "id": "e96f44ac-b632-4db3-aa18-d661cc58c9d9",
   "metadata": {},
   "outputs": [],
   "source": [
    "ARTIST_ID = {\n",
    "    'Drake': '37i9dQZF1DX7QOv5kjbU68',\n",
    "    'Eminem': '37i9dQZF1DZ06evO4gTUOY',\n",
    "    'Nicki Minaj': '37i9dQZF1DZ06evO0684jS',\n",
    "    'Nas': '37i9dQZF1DZ06evO18oyZi',\n",
    "    'Future': '37i9dQZF1DZ06evO133u6s',\n",
    "    'Dave': '37i9dQZF1DZ06evO3Y4Tg4',\n",
    "    '2Pac': '37i9dQZF1DZ06evO17QsVi',\n",
    "    'Kendrick Lamar': '37i9dQZF1DZ06evO1IPOOk',\n",
    "    'Rapsody': '37i9dQZF1DZ06evO41iwLu',\n",
    "    'Skepta': '37i9dQZF1DZ06evO1nbU8U'\n",
    "}"
   ]
  },
  {
   "cell_type": "markdown",
   "id": "1cbda02a-0da8-4701-bed5-679ddee1ec11",
   "metadata": {},
   "source": [
    "Grab top 50 tracks for each artist and extract track info:"
   ]
  },
  {
   "cell_type": "code",
   "execution_count": 28,
   "id": "04f52afb-249c-430b-bfa1-1bda9103fb0b",
   "metadata": {},
   "outputs": [],
   "source": [
    "data_dict = {'track_name': [], 'main_artist': [], 'key_artist': [], 'duration_ms': [], 'is_explicit': []}\n",
    "\n",
    "for key_artist, id in ARTIST_ID.items():\n",
    "    playlist_tracks = SP.playlist_items(playlist_id=id)\n",
    "    # Extract track names, track duration and if track is explicit:\n",
    "    track_names = [track['track']['name'] for track in playlist_tracks['items']][:50]\n",
    "    main_artists = [track['track']['artists'][0]['name'] for track in playlist_tracks['items']][:50]\n",
    "    is_explicit = [track['track']['explicit'] for track in playlist_tracks['items']][:50]\n",
    "    track_duration = [track['track']['duration_ms'] for track in playlist_tracks['items']][:50]\n",
    "    \n",
    "    # Store values:\n",
    "    data_dict['track_name'] += track_names\n",
    "    data_dict['main_artist'] += main_artists\n",
    "    data_dict['key_artist'] += [key_artist for _ in range(50)]\n",
    "    data_dict['duration_ms'] += track_duration\n",
    "    data_dict['is_explicit'] += is_explicit"
   ]
  },
  {
   "cell_type": "markdown",
   "id": "240abf94-8819-4022-93f8-fb1dc6779432",
   "metadata": {},
   "source": [
    "Convert data into a Pandas dataframe:"
   ]
  },
  {
   "cell_type": "code",
   "execution_count": 29,
   "id": "b27e570b-9485-482b-8a67-10add340aa58",
   "metadata": {},
   "outputs": [
    {
     "data": {
      "text/html": [
       "<div>\n",
       "<style scoped>\n",
       "    .dataframe tbody tr th:only-of-type {\n",
       "        vertical-align: middle;\n",
       "    }\n",
       "\n",
       "    .dataframe tbody tr th {\n",
       "        vertical-align: top;\n",
       "    }\n",
       "\n",
       "    .dataframe thead th {\n",
       "        text-align: right;\n",
       "    }\n",
       "</style>\n",
       "<table border=\"1\" class=\"dataframe\">\n",
       "  <thead>\n",
       "    <tr style=\"text-align: right;\">\n",
       "      <th></th>\n",
       "      <th>track_name</th>\n",
       "      <th>main_artist</th>\n",
       "      <th>key_artist</th>\n",
       "      <th>duration_ms</th>\n",
       "      <th>is_explicit</th>\n",
       "    </tr>\n",
       "  </thead>\n",
       "  <tbody>\n",
       "    <tr>\n",
       "      <th>217</th>\n",
       "      <td>U Are My High (with Future)</td>\n",
       "      <td>DJ Snake</td>\n",
       "      <td>Future</td>\n",
       "      <td>211200</td>\n",
       "      <td>False</td>\n",
       "    </tr>\n",
       "    <tr>\n",
       "      <th>132</th>\n",
       "      <td>Ball For Me (feat. Nicki Minaj)</td>\n",
       "      <td>Post Malone</td>\n",
       "      <td>Nicki Minaj</td>\n",
       "      <td>206266</td>\n",
       "      <td>True</td>\n",
       "    </tr>\n",
       "    <tr>\n",
       "      <th>24</th>\n",
       "      <td>Spin Bout U</td>\n",
       "      <td>Drake</td>\n",
       "      <td>Drake</td>\n",
       "      <td>214588</td>\n",
       "      <td>True</td>\n",
       "    </tr>\n",
       "    <tr>\n",
       "      <th>171</th>\n",
       "      <td>Street Dreams</td>\n",
       "      <td>Nas</td>\n",
       "      <td>Nas</td>\n",
       "      <td>279933</td>\n",
       "      <td>True</td>\n",
       "    </tr>\n",
       "    <tr>\n",
       "      <th>288</th>\n",
       "      <td>Paper Cuts</td>\n",
       "      <td>Dave</td>\n",
       "      <td>Dave</td>\n",
       "      <td>179626</td>\n",
       "      <td>True</td>\n",
       "    </tr>\n",
       "    <tr>\n",
       "      <th>474</th>\n",
       "      <td>Touching My Body</td>\n",
       "      <td>Skepta</td>\n",
       "      <td>Skepta</td>\n",
       "      <td>430727</td>\n",
       "      <td>False</td>\n",
       "    </tr>\n",
       "    <tr>\n",
       "      <th>79</th>\n",
       "      <td>Bitch Please II</td>\n",
       "      <td>Eminem</td>\n",
       "      <td>Eminem</td>\n",
       "      <td>288200</td>\n",
       "      <td>True</td>\n",
       "    </tr>\n",
       "    <tr>\n",
       "      <th>287</th>\n",
       "      <td>Nothing On You (feat. Paulo Londra &amp; Dave)</td>\n",
       "      <td>Ed Sheeran</td>\n",
       "      <td>Dave</td>\n",
       "      <td>200733</td>\n",
       "      <td>False</td>\n",
       "    </tr>\n",
       "    <tr>\n",
       "      <th>305</th>\n",
       "      <td>All Eyez On Me (ft. Big Syke)</td>\n",
       "      <td>2Pac</td>\n",
       "      <td>2Pac</td>\n",
       "      <td>307773</td>\n",
       "      <td>True</td>\n",
       "    </tr>\n",
       "    <tr>\n",
       "      <th>279</th>\n",
       "      <td>Disaster (feat. J Hus)</td>\n",
       "      <td>Dave</td>\n",
       "      <td>Dave</td>\n",
       "      <td>240160</td>\n",
       "      <td>True</td>\n",
       "    </tr>\n",
       "  </tbody>\n",
       "</table>\n",
       "</div>"
      ],
      "text/plain": [
       "                                     track_name  main_artist   key_artist  \\\n",
       "217                 U Are My High (with Future)     DJ Snake       Future   \n",
       "132             Ball For Me (feat. Nicki Minaj)  Post Malone  Nicki Minaj   \n",
       "24                                  Spin Bout U        Drake        Drake   \n",
       "171                               Street Dreams          Nas          Nas   \n",
       "288                                  Paper Cuts         Dave         Dave   \n",
       "474                            Touching My Body       Skepta       Skepta   \n",
       "79                              Bitch Please II       Eminem       Eminem   \n",
       "287  Nothing On You (feat. Paulo Londra & Dave)   Ed Sheeran         Dave   \n",
       "305               All Eyez On Me (ft. Big Syke)         2Pac         2Pac   \n",
       "279                      Disaster (feat. J Hus)         Dave         Dave   \n",
       "\n",
       "     duration_ms  is_explicit  \n",
       "217       211200        False  \n",
       "132       206266         True  \n",
       "24        214588         True  \n",
       "171       279933         True  \n",
       "288       179626         True  \n",
       "474       430727        False  \n",
       "79        288200         True  \n",
       "287       200733        False  \n",
       "305       307773         True  \n",
       "279       240160         True  "
      ]
     },
     "execution_count": 29,
     "metadata": {},
     "output_type": "execute_result"
    }
   ],
   "source": [
    "df = pd.DataFrame(data_dict)\n",
    "_\n",
    "df.sample(10)"
   ]
  },
  {
   "cell_type": "markdown",
   "id": "4d4fdb44-7679-479a-8c7b-9107c216966e",
   "metadata": {},
   "source": [
    "### Rap Genius API"
   ]
  },
  {
   "cell_type": "code",
   "execution_count": null,
   "id": "1843e44e-9c1d-4cbd-b5e4-fed5d4e39db1",
   "metadata": {},
   "outputs": [],
   "source": []
  },
  {
   "cell_type": "code",
   "execution_count": 83,
   "id": "e236bc02-2306-4d24-ac7c-701e1a0279e1",
   "metadata": {},
   "outputs": [],
   "source": [
    "URL = 'https://genius.com/'"
   ]
  },
  {
   "cell_type": "markdown",
   "id": "1e34f4da-4ae6-41bf-9c3d-12011e7c2bb7",
   "metadata": {},
   "source": [
    "Get lyrics for each track:"
   ]
  },
  {
   "cell_type": "code",
   "execution_count": 86,
   "id": "657912c4-a663-4ccb-83c8-54f5a7caa3e3",
   "metadata": {},
   "outputs": [
    {
     "data": {
      "application/vnd.jupyter.widget-view+json": {
       "model_id": "fca29d80dbb04c1aa224b49409daf3c2",
       "version_major": 2,
       "version_minor": 0
      },
      "text/plain": [
       "  0%|          | 0/500 [00:00<?, ?it/s]"
      ]
     },
     "metadata": {},
     "output_type": "display_data"
    },
    {
     "name": "stdout",
     "output_type": "stream",
     "text": [
      "Drake Search & Rescue\n",
      "Drake search-&-rescue\n",
      " \n",
      "\n"
     ]
    }
   ],
   "source": [
    "for index, row in tqdm(df[df.isnull().any(axis=1)].iterrows(), total=len(df)):\n",
    "    try:\n",
    "        main_artist = row['main_artist']\n",
    "        key_artist = row['key_artist']\n",
    "        track_name = row['track_name']\n",
    "    \n",
    "        # Remove features from track name and reformat strings\n",
    "        track_name = track_name.lower().split(' (')[0].strip().replace(' ', '-')\n",
    "        main_artist = main_artist.replace(' ', '-')\n",
    "    \n",
    "        # Connect to webpage\n",
    "        path_extension = f\"{main_artist}-{track_name}-lyrics\"\n",
    "        r = requests.get(URL + path_extension)\n",
    "    \n",
    "        # Get raw text of lyrics \n",
    "        soup = BeautifulSoup(r.content, 'html.parser')\n",
    "        lyrics = \" \".join(\n",
    "            tag.get_text() + '\\n\\n' for tag in \\\n",
    "            soup.find_all('div', {'class': 'Lyrics__Container-sc-1ynbvzw-1 kUgSbL'})\n",
    "        )\n",
    "        print(lyrics, '\\n')\n",
    "        # Add lyrics to current row\n",
    "        df.loc[index, 'raw_lyrics'] = lyrics\n",
    "    except Exception as e:\n",
    "        print(f\"Error occurred at index pos: {index} — {e} — {r.status_code}\")\n",
    "\n",
    "    # Avoid hitting rate limit\n",
    "    time.sleep(1)"
   ]
  },
  {
   "cell_type": "code",
   "execution_count": 65,
   "id": "59c594b2-f82e-4438-b9ec-d138af411149",
   "metadata": {},
   "outputs": [],
   "source": [
    "# Save checkpoint\n",
    "df.to_csv('raw_data/lyrics_raw.csv', index=False)"
   ]
  },
  {
   "cell_type": "code",
   "execution_count": 2,
   "id": "132fc7e3-ef8b-4cd2-af22-f1f32f931e6c",
   "metadata": {},
   "outputs": [],
   "source": [
    "# Load checkpoint\n",
    "df = pd.read_csv('raw_data/lyrics_raw.csv')"
   ]
  },
  {
   "cell_type": "markdown",
   "id": "053e8012-7463-4042-9e2c-e1a8c95c4c5e",
   "metadata": {},
   "source": [
    "Extract lyrics performed by key artists only:"
   ]
  },
  {
   "cell_type": "code",
   "execution_count": null,
   "id": "dc059ac1-2b95-469a-a12b-32dea026cb5a",
   "metadata": {},
   "outputs": [],
   "source": []
  }
 ],
 "metadata": {
  "kernelspec": {
   "display_name": "fullstack",
   "language": "python",
   "name": "fullstack"
  },
  "language_info": {
   "codemirror_mode": {
    "name": "ipython",
    "version": 3
   },
   "file_extension": ".py",
   "mimetype": "text/x-python",
   "name": "python",
   "nbconvert_exporter": "python",
   "pygments_lexer": "ipython3",
   "version": "3.11.5"
  }
 },
 "nbformat": 4,
 "nbformat_minor": 5
}
