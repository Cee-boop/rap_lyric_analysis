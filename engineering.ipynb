{
 "cells": [
  {
   "cell_type": "markdown",
   "id": "40243c43-7b9d-4298-b19c-0ed7d612f833",
   "metadata": {},
   "source": [
    "# Feature Engineering / NLP"
   ]
  },
  {
   "cell_type": "code",
   "execution_count": 74,
   "id": "0e8a18d4-0e27-4583-967f-f0e0b5700036",
   "metadata": {},
   "outputs": [],
   "source": [
    "import re\n",
    "import numpy as np\n",
    "import pandas as pd\n",
    "from tqdm.notebook import tqdm\n",
    "_\n",
    "# NLP\n",
    "import nltk\n",
    "from nltk.corpus import wordnet\n",
    "from nltk.corpus import stopwords\n",
    "from nltk import pos_tag\n",
    "from unicodedata import normalize\n",
    "from nltk.tokenize import word_tokenize\n",
    "from nltk.stem import WordNetLemmatizer\n",
    "from nltk.sentiment import SentimentIntensityAnalyzer\n",
    "from textblob import TextBlob\n",
    "_\n",
    "# LLM\n",
    "from openai import OpenAI\n",
    "from ast import literal_eval\n",
    "_\n",
    "# Web scraping\n",
    "from bs4 import BeautifulSoup\n",
    "import requests\n",
    "_\n",
    "# Misc\n",
    "import sys\n",
    "sys.path.append('/Users/********')\n",
    "import cred"
   ]
  },
  {
   "cell_type": "code",
   "execution_count": 75,
   "id": "b7225fb8-4a86-4e2e-9389-6bf600bf4b56",
   "metadata": {},
   "outputs": [
    {
     "data": {
      "text/html": [
       "<div>\n",
       "<style scoped>\n",
       "    .dataframe tbody tr th:only-of-type {\n",
       "        vertical-align: middle;\n",
       "    }\n",
       "\n",
       "    .dataframe tbody tr th {\n",
       "        vertical-align: top;\n",
       "    }\n",
       "\n",
       "    .dataframe thead th {\n",
       "        text-align: right;\n",
       "    }\n",
       "</style>\n",
       "<table border=\"1\" class=\"dataframe\">\n",
       "  <thead>\n",
       "    <tr style=\"text-align: right;\">\n",
       "      <th></th>\n",
       "      <th>track_name</th>\n",
       "      <th>artist</th>\n",
       "      <th>duration_ms</th>\n",
       "      <th>is_explicit</th>\n",
       "      <th>track_uri</th>\n",
       "      <th>track_bpm</th>\n",
       "      <th>raw_lyrics</th>\n",
       "      <th>artist_verses</th>\n",
       "    </tr>\n",
       "  </thead>\n",
       "  <tbody>\n",
       "    <tr>\n",
       "      <th>0</th>\n",
       "      <td>You Broke My Heart</td>\n",
       "      <td>Drake</td>\n",
       "      <td>230709</td>\n",
       "      <td>False</td>\n",
       "      <td>spotify:track:2FBo7mg3It3YOefMhBKk60</td>\n",
       "      <td>123.872</td>\n",
       "      <td>Yeah Yeah Oh, baby, don't go Don't go Look Loo...</td>\n",
       "      <td>Yeah\\nYeah\\nOh, baby, don't go\\nDon't go\\nLook...</td>\n",
       "    </tr>\n",
       "    <tr>\n",
       "      <th>1</th>\n",
       "      <td>First Person Shooter (feat. J. Cole)</td>\n",
       "      <td>Drake</td>\n",
       "      <td>247444</td>\n",
       "      <td>False</td>\n",
       "      <td>spotify:track:6ltWTSzsV2TaSsOhoA8eBC</td>\n",
       "      <td>164.005</td>\n",
       "      <td>[Intro: J. Cole &amp; Adonis] (Pew, pew-pew) Firs...</td>\n",
       "      <td>Big as the what? (Ah)\\nBig as the what? (Mm)\\n...</td>\n",
       "    </tr>\n",
       "    <tr>\n",
       "      <th>2</th>\n",
       "      <td>MELTDOWN (feat. Drake)</td>\n",
       "      <td>Drake</td>\n",
       "      <td>246133</td>\n",
       "      <td>True</td>\n",
       "      <td>spotify:track:67nepsnrcZkowTxMWigSbb</td>\n",
       "      <td>111.975</td>\n",
       "      <td>[Intro: Drake] Yeah Tensions is definitely ri...</td>\n",
       "      <td>Yeah\\nTensions is definitely rising\\nT'd up ri...</td>\n",
       "    </tr>\n",
       "    <tr>\n",
       "      <th>3</th>\n",
       "      <td>Slime You Out (feat. SZA)</td>\n",
       "      <td>Drake</td>\n",
       "      <td>310490</td>\n",
       "      <td>True</td>\n",
       "      <td>spotify:track:3RaCGXCiiMufRPoexXxGkV</td>\n",
       "      <td>88.880</td>\n",
       "      <td>I don't know I don't know what's wrong with yo...</td>\n",
       "      <td>I don't know\\nI don't know what's wrong with y...</td>\n",
       "    </tr>\n",
       "    <tr>\n",
       "      <th>4</th>\n",
       "      <td>On The Radar Freestyle</td>\n",
       "      <td>Drake</td>\n",
       "      <td>275280</td>\n",
       "      <td>True</td>\n",
       "      <td>spotify:track:1L0OmJV0LnPDWuHCIGmBV6</td>\n",
       "      <td>150.126</td>\n",
       "      <td>Yeah On The Radar, 2023 6 G-O-D and my broski ...</td>\n",
       "      <td>Yeah\\nOn The Radar, \\n G-O-D and my broski \\nC...</td>\n",
       "    </tr>\n",
       "  </tbody>\n",
       "</table>\n",
       "</div>"
      ],
      "text/plain": [
       "                             track_name artist  duration_ms  is_explicit  \\\n",
       "0                    You Broke My Heart  Drake       230709        False   \n",
       "1  First Person Shooter (feat. J. Cole)  Drake       247444        False   \n",
       "2                MELTDOWN (feat. Drake)  Drake       246133         True   \n",
       "3             Slime You Out (feat. SZA)  Drake       310490         True   \n",
       "4                On The Radar Freestyle  Drake       275280         True   \n",
       "\n",
       "                              track_uri  track_bpm  \\\n",
       "0  spotify:track:2FBo7mg3It3YOefMhBKk60    123.872   \n",
       "1  spotify:track:6ltWTSzsV2TaSsOhoA8eBC    164.005   \n",
       "2  spotify:track:67nepsnrcZkowTxMWigSbb    111.975   \n",
       "3  spotify:track:3RaCGXCiiMufRPoexXxGkV     88.880   \n",
       "4  spotify:track:1L0OmJV0LnPDWuHCIGmBV6    150.126   \n",
       "\n",
       "                                          raw_lyrics  \\\n",
       "0  Yeah Yeah Oh, baby, don't go Don't go Look Loo...   \n",
       "1   [Intro: J. Cole & Adonis] (Pew, pew-pew) Firs...   \n",
       "2   [Intro: Drake] Yeah Tensions is definitely ri...   \n",
       "3  I don't know I don't know what's wrong with yo...   \n",
       "4  Yeah On The Radar, 2023 6 G-O-D and my broski ...   \n",
       "\n",
       "                                       artist_verses  \n",
       "0  Yeah\\nYeah\\nOh, baby, don't go\\nDon't go\\nLook...  \n",
       "1  Big as the what? (Ah)\\nBig as the what? (Mm)\\n...  \n",
       "2  Yeah\\nTensions is definitely rising\\nT'd up ri...  \n",
       "3  I don't know\\nI don't know what's wrong with y...  \n",
       "4  Yeah\\nOn The Radar, \\n G-O-D and my broski \\nC...  "
      ]
     },
     "execution_count": 75,
     "metadata": {},
     "output_type": "execute_result"
    }
   ],
   "source": [
    "df = pd.read_csv('raw_data/lyrics_raw.csv')\n",
    "_\n",
    "df.head()"
   ]
  },
  {
   "cell_type": "markdown",
   "id": "8ebbc3c3-9d2b-4abb-a1e6-05f5e00c2976",
   "metadata": {},
   "source": [
    "Convert `duration_ms` to minutes:"
   ]
  },
  {
   "cell_type": "code",
   "execution_count": 76,
   "id": "a2d19ab8-a746-4256-9850-659457b113c2",
   "metadata": {},
   "outputs": [],
   "source": [
    "df['duration_min'] = round(df['duration_ms'] / 60000)"
   ]
  },
  {
   "cell_type": "markdown",
   "id": "cff3c40e-11e3-4e2c-9d98-b621f3210beb",
   "metadata": {},
   "source": [
    "Featured on track:"
   ]
  },
  {
   "cell_type": "code",
   "execution_count": 77,
   "id": "3eefdbac-65a9-4594-a090-c23c954e2baf",
   "metadata": {},
   "outputs": [],
   "source": [
    "df['is_featured'] = df.apply(lambda x: x['artist'] in x['track_name'], axis=1)"
   ]
  },
  {
   "cell_type": "markdown",
   "id": "3c8033f1-6f3f-4519-a54a-ec1d37d4538b",
   "metadata": {},
   "source": [
    "Bar count:"
   ]
  },
  {
   "cell_type": "code",
   "execution_count": 78,
   "id": "3ce39bbf-ea3e-41ff-8a8c-18d82f12f05c",
   "metadata": {},
   "outputs": [],
   "source": [
    "# A line counts as a bar — if the line contains than 4 words\n",
    "df['bar_count'] = df['artist_verses'].apply(\n",
    "    lambda x: len([bar for bar in x.split('\\n') if len(bar.split(' ')) > 4])\n",
    ")"
   ]
  },
  {
   "cell_type": "markdown",
   "id": "31b46795-d565-429e-b5b6-03649222b03d",
   "metadata": {},
   "source": [
    "Word count and words per min:"
   ]
  },
  {
   "cell_type": "code",
   "execution_count": 79,
   "id": "a92d7e37-b03d-46a0-b7fc-a1791d2796bd",
   "metadata": {},
   "outputs": [],
   "source": [
    "df['word_count'] = df['artist_verses'].apply(lambda x: len(\" \".join(x.split('\\n')).split(' ')))\n",
    "df['words_per_min'] = round(df['word_count'] / df['duration_min'], 1)"
   ]
  },
  {
   "cell_type": "markdown",
   "id": "7912466e-0702-4684-a9c7-f1318387903e",
   "metadata": {},
   "source": [
    "Stop words used and stop word count:"
   ]
  },
  {
   "cell_type": "code",
   "execution_count": 80,
   "id": "afb265d3-46b6-450e-8852-cbbab05aefcd",
   "metadata": {},
   "outputs": [
    {
     "data": {
      "application/vnd.jupyter.widget-view+json": {
       "model_id": "a50354face4548b78294b991fb1647a0",
       "version_major": 2,
       "version_minor": 0
      },
      "text/plain": [
       "  0%|          | 0/530 [00:00<?, ?it/s]"
      ]
     },
     "metadata": {},
     "output_type": "display_data"
    }
   ],
   "source": [
    "for index, row in tqdm(df.iterrows(), total=len(df)):\n",
    "    lyrics = row['artist_verses']\n",
    "    # Format text:\n",
    "    lyrics = lyrics.lower()\n",
    "    lyrics = lyrics.replace(',', '').replace('\\n', ' ')\n",
    "    lyrics = lyrics.split(' ')\n",
    "    \n",
    "    stop_word_count = 0\n",
    "    \n",
    "    for word in lyrics:\n",
    "        if word in set(stopwords.words('english')):\n",
    "            stop_word_count += 1\n",
    "\n",
    "    df.loc[index, 'stop_word_count'] = stop_word_count"
   ]
  },
  {
   "cell_type": "code",
   "execution_count": 81,
   "id": "9afc967f-4547-4036-bf5a-adc596f5d8d0",
   "metadata": {},
   "outputs": [
    {
     "data": {
      "text/html": [
       "<div>\n",
       "<style scoped>\n",
       "    .dataframe tbody tr th:only-of-type {\n",
       "        vertical-align: middle;\n",
       "    }\n",
       "\n",
       "    .dataframe tbody tr th {\n",
       "        vertical-align: top;\n",
       "    }\n",
       "\n",
       "    .dataframe thead th {\n",
       "        text-align: right;\n",
       "    }\n",
       "</style>\n",
       "<table border=\"1\" class=\"dataframe\">\n",
       "  <thead>\n",
       "    <tr style=\"text-align: right;\">\n",
       "      <th></th>\n",
       "      <th>track_name</th>\n",
       "      <th>artist</th>\n",
       "      <th>duration_ms</th>\n",
       "      <th>is_explicit</th>\n",
       "      <th>track_uri</th>\n",
       "      <th>track_bpm</th>\n",
       "      <th>raw_lyrics</th>\n",
       "      <th>artist_verses</th>\n",
       "      <th>duration_min</th>\n",
       "      <th>is_featured</th>\n",
       "      <th>bar_count</th>\n",
       "      <th>word_count</th>\n",
       "      <th>words_per_min</th>\n",
       "      <th>stop_word_count</th>\n",
       "    </tr>\n",
       "  </thead>\n",
       "  <tbody>\n",
       "    <tr>\n",
       "      <th>239</th>\n",
       "      <td>Drankin N Smokin</td>\n",
       "      <td>Future</td>\n",
       "      <td>213520</td>\n",
       "      <td>True</td>\n",
       "      <td>spotify:track:0k7wmahjkn389wAZdz19Cv</td>\n",
       "      <td>151.951</td>\n",
       "      <td>Saggin' out the malls, we do the most, oh Had ...</td>\n",
       "      <td>Saggin' out the malls, we do the most, oh\\nHad...</td>\n",
       "      <td>4.0</td>\n",
       "      <td>False</td>\n",
       "      <td>41</td>\n",
       "      <td>459</td>\n",
       "      <td>114.8</td>\n",
       "      <td>233.0</td>\n",
       "    </tr>\n",
       "    <tr>\n",
       "      <th>124</th>\n",
       "      <td>Woman Like Me (feat. Nicki Minaj)</td>\n",
       "      <td>Nicki Minaj</td>\n",
       "      <td>229720</td>\n",
       "      <td>True</td>\n",
       "      <td>spotify:track:222B3aljXx6fFwKmFjuBED</td>\n",
       "      <td>75.002</td>\n",
       "      <td>I always say what I'm feeling I was born witho...</td>\n",
       "      <td>Yo, woman like me, yes, a woman like me (Oh)\\n...</td>\n",
       "      <td>4.0</td>\n",
       "      <td>True</td>\n",
       "      <td>24</td>\n",
       "      <td>233</td>\n",
       "      <td>58.2</td>\n",
       "      <td>85.0</td>\n",
       "    </tr>\n",
       "    <tr>\n",
       "      <th>4</th>\n",
       "      <td>On The Radar Freestyle</td>\n",
       "      <td>Drake</td>\n",
       "      <td>275280</td>\n",
       "      <td>True</td>\n",
       "      <td>spotify:track:1L0OmJV0LnPDWuHCIGmBV6</td>\n",
       "      <td>150.126</td>\n",
       "      <td>Yeah On The Radar, 2023 6 G-O-D and my broski ...</td>\n",
       "      <td>Yeah\\nOn The Radar, \\n G-O-D and my broski \\nC...</td>\n",
       "      <td>5.0</td>\n",
       "      <td>False</td>\n",
       "      <td>43</td>\n",
       "      <td>567</td>\n",
       "      <td>113.4</td>\n",
       "      <td>239.0</td>\n",
       "    </tr>\n",
       "  </tbody>\n",
       "</table>\n",
       "</div>"
      ],
      "text/plain": [
       "                            track_name       artist  duration_ms  is_explicit  \\\n",
       "239                   Drankin N Smokin       Future       213520         True   \n",
       "124  Woman Like Me (feat. Nicki Minaj)  Nicki Minaj       229720         True   \n",
       "4               On The Radar Freestyle        Drake       275280         True   \n",
       "\n",
       "                                track_uri  track_bpm  \\\n",
       "239  spotify:track:0k7wmahjkn389wAZdz19Cv    151.951   \n",
       "124  spotify:track:222B3aljXx6fFwKmFjuBED     75.002   \n",
       "4    spotify:track:1L0OmJV0LnPDWuHCIGmBV6    150.126   \n",
       "\n",
       "                                            raw_lyrics  \\\n",
       "239  Saggin' out the malls, we do the most, oh Had ...   \n",
       "124  I always say what I'm feeling I was born witho...   \n",
       "4    Yeah On The Radar, 2023 6 G-O-D and my broski ...   \n",
       "\n",
       "                                         artist_verses  duration_min  \\\n",
       "239  Saggin' out the malls, we do the most, oh\\nHad...           4.0   \n",
       "124  Yo, woman like me, yes, a woman like me (Oh)\\n...           4.0   \n",
       "4    Yeah\\nOn The Radar, \\n G-O-D and my broski \\nC...           5.0   \n",
       "\n",
       "     is_featured  bar_count  word_count  words_per_min  stop_word_count  \n",
       "239        False         41         459          114.8            233.0  \n",
       "124         True         24         233           58.2             85.0  \n",
       "4          False         43         567          113.4            239.0  "
      ]
     },
     "execution_count": 81,
     "metadata": {},
     "output_type": "execute_result"
    }
   ],
   "source": [
    "df.sample(3)"
   ]
  },
  {
   "cell_type": "markdown",
   "id": "73d5fa7f-268f-4c1e-851a-2fa55b9c1a6c",
   "metadata": {},
   "source": [
    "### Scraping Wikipedia"
   ]
  },
  {
   "cell_type": "markdown",
   "id": "0986fcac-3e03-470d-88b6-e68104a5fe44",
   "metadata": {},
   "source": [
    "Get a list of all English swear words:"
   ]
  },
  {
   "cell_type": "code",
   "execution_count": 82,
   "id": "9bd3b05f-5d2c-495a-90db-209cfd894927",
   "metadata": {},
   "outputs": [],
   "source": [
    "URL = 'https://en.wiktionary.org/wiki/Category:English_swear_words'"
   ]
  },
  {
   "cell_type": "code",
   "execution_count": 83,
   "id": "9915e36c-dfe0-4c18-a289-45d07cd0e59f",
   "metadata": {},
   "outputs": [],
   "source": [
    "r = requests.get(URL)\n",
    "soup = BeautifulSoup(r.content, 'html.parser')\n",
    "swear_words = [\n",
    "    word[:-1] if word[-1].isupper() else word \\\n",
    "    for word in soup.find_all('div', {'class': 'mw-category mw-category-columns'})[0].text.split('\\n')[2:]\n",
    "] + ['libs']"
   ]
  },
  {
   "cell_type": "markdown",
   "id": "a6c623a9-eacb-48e5-8cf8-708bcb8d1fa3",
   "metadata": {},
   "source": [
    "### NLP"
   ]
  },
  {
   "cell_type": "markdown",
   "id": "c8b498e6-47ce-4f12-84fc-33b7b804b72a",
   "metadata": {},
   "source": [
    "Remove all symbols / special characters from `artist_verses` and lemmatize text:"
   ]
  },
  {
   "cell_type": "code",
   "execution_count": 84,
   "id": "f68004f8-dc35-48d7-89a8-db37fcd78ee2",
   "metadata": {},
   "outputs": [],
   "source": [
    "def get_wordnet_pos(treebank_tag):\n",
    "    \"\"\"\n",
    "    Converts part-of-speech tag into wordnet tag if able.\n",
    "    \"\"\"\n",
    "    if treebank_tag.startswith('J'):\n",
    "        return wordnet.ADJ\n",
    "    elif treebank_tag.startswith('V'):\n",
    "        return wordnet.VERB\n",
    "    elif treebank_tag.startswith('N'):\n",
    "        return wordnet.NOUN\n",
    "    elif treebank_tag.startswith('R'):\n",
    "        return wordnet.ADV\n",
    "    else:\n",
    "        return None\n",
    "\n",
    "\n",
    "def lemmatize_text(text: str) -> str:\n",
    "    \"\"\"\n",
    "    Tokenize, lemmatize, and remove stop words from text.\n",
    "    \"\"\"\n",
    "    global swear_words\n",
    "    \n",
    "    lem = WordNetLemmatizer()\n",
    "    stop_words = set(\n",
    "        stopwords.words('english') + \\\n",
    "        [\"n't\", \"v'e\", \"r'e\", \"'re\", \"'ve\", \"'\", \"'s\", \"'ll\", \"'m\", \"can't\", \"ain't\", \"i'm\", \"i'd\", \"ll\"]\n",
    "    )\n",
    "\n",
    "    # # Remove stop words before lemmatization:\n",
    "    text = \" \".join(word for word in text.split(' ') if word not in stop_words)\n",
    "    text = text.replace(\"'\", '')\n",
    "    text = re.sub(\"\\s+\", ' ', text)  # Remove additional whitespaces\n",
    "\n",
    "    # Run spell corrections:\n",
    "    text = \" \".join(\n",
    "        str(TextBlob(word).correct()) if word not in swear_words else word \\\n",
    "        for word in text.split(' ')\n",
    "    )\n",
    "    \n",
    "    # Lemmatize and remove stop words:\n",
    "    word_tags = pos_tag(word_tokenize(text))\n",
    "    text = [\n",
    "        lem.lemmatize(word[0], pos=get_wordnet_pos(word[1])) \\\n",
    "        if word[1].startswith(('J', 'V', 'N', 'R')) else word[0] for word in word_tags\n",
    "    ]\n",
    "\n",
    "    # Remove stop words after lemmatization:\n",
    "    text = [word for word in text if word not in stop_words]\n",
    "    text = \" \".join(text)\n",
    "    return text\n",
    "    \n",
    "\n",
    "def clean_text(text: str) -> str:\n",
    "    \"\"\"\n",
    "    Remove punctuation, numbers, and special characters.\n",
    "    \"\"\"\n",
    "    text = text.lower()\n",
    "\n",
    "    text = re.sub(\"[^\\w']+\", ' ', text)  # Remove special symbols, excluding apostrophes\n",
    "    text = re.sub(\"[0-9]\", '', text)  # Removes numbers\n",
    "    text = re.sub(\"\\s+\", ' ', text)  # Remove additional whitespaces\n",
    "    return text"
   ]
  },
  {
   "cell_type": "code",
   "execution_count": 85,
   "id": "968705a7-38fc-4555-bdd5-425b0792cb42",
   "metadata": {},
   "outputs": [
    {
     "data": {
      "application/vnd.jupyter.widget-view+json": {
       "model_id": "cb247531464a4148836c622c181b6e97",
       "version_major": 2,
       "version_minor": 0
      },
      "text/plain": [
       "  0%|          | 0/530 [00:00<?, ?it/s]"
      ]
     },
     "metadata": {},
     "output_type": "display_data"
    }
   ],
   "source": [
    "for index, row in tqdm(df.iterrows(), total=len(df)):\n",
    "    lyrics = row['artist_verses']\n",
    "    lyrics_cleaned = clean_text(lyrics)\n",
    "    lyrics_lemmatized = lemmatize_text(lyrics_cleaned)\n",
    "    \n",
    "    df.loc[index, 'verses_cleaned'] = lyrics_cleaned\n",
    "    df.loc[index, 'verses_lemmatized'] = lyrics_lemmatized"
   ]
  },
  {
   "cell_type": "markdown",
   "id": "f9b118d1-f000-4c44-b081-8aa7034df304",
   "metadata": {},
   "source": [
    "### Sentiment analysis"
   ]
  },
  {
   "cell_type": "markdown",
   "id": "2436d797-ff46-426a-bb19-855a04d67138",
   "metadata": {},
   "source": [
    "Get positive / negative polarity scores for each track:"
   ]
  },
  {
   "cell_type": "code",
   "execution_count": 86,
   "id": "870eabba-84bd-48a9-8a67-299c9d5e1e39",
   "metadata": {},
   "outputs": [],
   "source": [
    "sia = SentimentIntensityAnalyzer()\n",
    "_\n",
    "df['pos_sentiment'] = df['verses_lemmatized'].apply(lambda x: sia.polarity_scores(x)['pos'])\n",
    "df['neg_sentiment'] = df['verses_lemmatized'].apply(lambda x: sia.polarity_scores(x)['neg'])"
   ]
  },
  {
   "cell_type": "markdown",
   "id": "9ebbf69a-4bea-4975-bd3e-242e58d4598c",
   "metadata": {},
   "source": [
    "### OpenAI API"
   ]
  },
  {
   "cell_type": "markdown",
   "id": "1d098039-bb04-4bac-9815-31b11e9d26ad",
   "metadata": {},
   "source": [
    "Categorise lyrics using Chat-GPT-4:"
   ]
  },
  {
   "cell_type": "code",
   "execution_count": 87,
   "id": "ec8e1a60-6bb4-4de9-b55d-6267f4fc4f7e",
   "metadata": {},
   "outputs": [],
   "source": [
    "def categorise_lyrics(text: str) -> str:\n",
    "    \"\"\"\n",
    "    Use OpenAI to classfify lyrics into a specific category. \n",
    "    \"\"\"\n",
    "    client = OpenAI(api_key=cred.OPENAPI_KEY)\n",
    "    \n",
    "    system_message = \"\"\"\n",
    "    Your job is to use probability to categorize lyrics into one of these categories: Love, Violence, \n",
    "    Drugs, Competitive, Sex, Hopeful. \n",
    "    \n",
    "    IMPORTANT: Only return the category with the highest probability.\n",
    "    \"\"\"\n",
    "\n",
    "    parsed_output = client.chat.completions.create(\n",
    "        messages=[\n",
    "            {\"role\": \"system\", \"content\": system_message},\n",
    "            {\"role\": \"user\", \"content\": text}\n",
    "        ],\n",
    "        model=\"gpt-4\",\n",
    "    )\n",
    "\n",
    "    return parsed_output.choices[0].message.content"
   ]
  },
  {
   "cell_type": "code",
   "execution_count": 89,
   "id": "73d7dc6a-440b-4af8-b0d3-f979841bcee6",
   "metadata": {},
   "outputs": [
    {
     "data": {
      "application/vnd.jupyter.widget-view+json": {
       "model_id": "8005296d91174abdbbf15d2c5e4e68bc",
       "version_major": 2,
       "version_minor": 0
      },
      "text/plain": [
       "  0%|          | 0/530 [00:00<?, ?it/s]"
      ]
     },
     "metadata": {},
     "output_type": "display_data"
    },
    {
     "name": "stdout",
     "output_type": "stream",
     "text": [
      "ERROR at index pos: 338 — Error code: 429 - {'error': {'message': 'Request too large for gpt-4 in organization org-AIsSZrr9c0qDVeRXnBwtK8Bp on tokens per min (TPM): Limit 10000, Requested 18712. The input or output tokens must be reduced in order to run successfully. Visit https://platform.openai.com/account/rate-limits to learn more.', 'type': 'tokens', 'param': None, 'code': 'rate_limit_exceeded'}}\n",
      "ERROR at index pos: 436 — Error code: 429 - {'error': {'message': 'Request too large for gpt-4 in organization org-AIsSZrr9c0qDVeRXnBwtK8Bp on tokens per min (TPM): Limit 10000, Requested 18903. The input or output tokens must be reduced in order to run successfully. Visit https://platform.openai.com/account/rate-limits to learn more.', 'type': 'tokens', 'param': None, 'code': 'rate_limit_exceeded'}}\n",
      "ERROR at index pos: 486 — Error code: 400 - {'error': {'message': \"This model's maximum context length is 8192 tokens. However, your messages resulted in 8428 tokens. Please reduce the length of the messages.\", 'type': 'invalid_request_error', 'param': 'messages', 'code': 'context_length_exceeded'}}\n"
     ]
    }
   ],
   "source": [
    "for index, row in tqdm(df.iterrows(), total=len(df)):\n",
    "    try:\n",
    "        category = categorise_lyrics(row['artist_verses'])\n",
    "        df.loc[index, 'topic'] = category\n",
    "    except Exception as e:\n",
    "        print(f\"ERROR at index pos: {index} — {e}\")"
   ]
  },
  {
   "cell_type": "markdown",
   "id": "961bfdf2-c286-40b5-b329-e2c2eacfba80",
   "metadata": {},
   "source": [
    "Drop any NaN values:"
   ]
  },
  {
   "cell_type": "code",
   "execution_count": 90,
   "id": "c9f38889-581a-4be6-b940-0e1b0481c9b0",
   "metadata": {},
   "outputs": [],
   "source": [
    "df = df.dropna()"
   ]
  },
  {
   "cell_type": "markdown",
   "id": "fa3b919a-1522-4ea1-b9bf-e58d5e9dcf22",
   "metadata": {},
   "source": [
    "### Compile lyric corpus"
   ]
  },
  {
   "cell_type": "markdown",
   "id": "bdcfb348-6bca-4e7b-a0dc-d7c0f13f191d",
   "metadata": {},
   "source": [
    "Gather each artist's vocabulary:"
   ]
  },
  {
   "cell_type": "code",
   "execution_count": 92,
   "id": "7035ceeb-5a4c-4027-9a6a-038ffea49af9",
   "metadata": {},
   "outputs": [
    {
     "data": {
      "text/html": [
       "<div>\n",
       "<style scoped>\n",
       "    .dataframe tbody tr th:only-of-type {\n",
       "        vertical-align: middle;\n",
       "    }\n",
       "\n",
       "    .dataframe tbody tr th {\n",
       "        vertical-align: top;\n",
       "    }\n",
       "\n",
       "    .dataframe thead th {\n",
       "        text-align: right;\n",
       "    }\n",
       "</style>\n",
       "<table border=\"1\" class=\"dataframe\">\n",
       "  <thead>\n",
       "    <tr style=\"text-align: right;\">\n",
       "      <th></th>\n",
       "      <th>artist</th>\n",
       "      <th>vocab</th>\n",
       "    </tr>\n",
       "  </thead>\n",
       "  <tbody>\n",
       "    <tr>\n",
       "      <th>0</th>\n",
       "      <td>Drake</td>\n",
       "      <td>yeah yeah oh baby don't go don't go look look ...</td>\n",
       "    </tr>\n",
       "    <tr>\n",
       "      <th>1</th>\n",
       "      <td>Eminem</td>\n",
       "      <td>yeah it's been a minute this probably should h...</td>\n",
       "    </tr>\n",
       "    <tr>\n",
       "      <th>2</th>\n",
       "      <td>Nicki Minaj</td>\n",
       "      <td>she's alright that girl s alright with me yeah...</td>\n",
       "    </tr>\n",
       "    <tr>\n",
       "      <th>3</th>\n",
       "      <td>Nas</td>\n",
       "      <td>yeah yeah ayo black it's time word word it's t...</td>\n",
       "    </tr>\n",
       "    <tr>\n",
       "      <th>4</th>\n",
       "      <td>Future</td>\n",
       "      <td>gotta fire my joint up on this bitch young met...</td>\n",
       "    </tr>\n",
       "    <tr>\n",
       "      <th>5</th>\n",
       "      <td>Dave</td>\n",
       "      <td>take a look at these diamonds wrong it's a lif...</td>\n",
       "    </tr>\n",
       "    <tr>\n",
       "      <th>6</th>\n",
       "      <td>2Pac</td>\n",
       "      <td>pac changes feat talent pac dear mama pac do ...</td>\n",
       "    </tr>\n",
       "    <tr>\n",
       "      <th>7</th>\n",
       "      <td>Kendrick Lamar</td>\n",
       "      <td>love let's talk about love is it anything and ...</td>\n",
       "    </tr>\n",
       "    <tr>\n",
       "      <th>8</th>\n",
       "      <td>Rapsody</td>\n",
       "      <td>yeah reading sufi say time is money coining ru...</td>\n",
       "    </tr>\n",
       "    <tr>\n",
       "      <th>9</th>\n",
       "      <td>Skepta</td>\n",
       "      <td>who are you a carbon copy cause a fire hot hib...</td>\n",
       "    </tr>\n",
       "    <tr>\n",
       "      <th>10</th>\n",
       "      <td>J. Cole</td>\n",
       "      <td>i want to see you work out for me work out for...</td>\n",
       "    </tr>\n",
       "  </tbody>\n",
       "</table>\n",
       "</div>"
      ],
      "text/plain": [
       "            artist                                              vocab\n",
       "0            Drake  yeah yeah oh baby don't go don't go look look ...\n",
       "1           Eminem  yeah it's been a minute this probably should h...\n",
       "2      Nicki Minaj  she's alright that girl s alright with me yeah...\n",
       "3              Nas  yeah yeah ayo black it's time word word it's t...\n",
       "4           Future  gotta fire my joint up on this bitch young met...\n",
       "5             Dave  take a look at these diamonds wrong it's a lif...\n",
       "6             2Pac   pac changes feat talent pac dear mama pac do ...\n",
       "7   Kendrick Lamar  love let's talk about love is it anything and ...\n",
       "8          Rapsody  yeah reading sufi say time is money coining ru...\n",
       "9           Skepta  who are you a carbon copy cause a fire hot hib...\n",
       "10         J. Cole  i want to see you work out for me work out for..."
      ]
     },
     "execution_count": 92,
     "metadata": {},
     "output_type": "execute_result"
    }
   ],
   "source": [
    "corpus_dict = {}\n",
    "\n",
    "for artist in df['artist'].unique():\n",
    "    artist_vocab = \" \".join(df[df['artist'] == artist]['verses_cleaned'])\n",
    "    corpus_dict[artist] = [artist_vocab]\n",
    "\n",
    "# Convert to dataframe:\n",
    "corpus_df = pd.DataFrame(corpus_dict).T.reset_index().rename(columns={'index': 'artist', 0: 'vocab'})\n",
    "_\n",
    "corpus_df"
   ]
  },
  {
   "cell_type": "markdown",
   "id": "67c1f1b8-c40b-4eb2-9bfd-573c7e85f7b1",
   "metadata": {},
   "source": [
    "### Save data"
   ]
  },
  {
   "cell_type": "markdown",
   "id": "d7c70efd-a19d-40b3-a131-96bba71745f7",
   "metadata": {},
   "source": [
    "Reorder columns:"
   ]
  },
  {
   "cell_type": "code",
   "execution_count": 93,
   "id": "2baf0172-1055-4f2d-945d-d747f9f820f6",
   "metadata": {},
   "outputs": [
    {
     "data": {
      "text/html": [
       "<div>\n",
       "<style scoped>\n",
       "    .dataframe tbody tr th:only-of-type {\n",
       "        vertical-align: middle;\n",
       "    }\n",
       "\n",
       "    .dataframe tbody tr th {\n",
       "        vertical-align: top;\n",
       "    }\n",
       "\n",
       "    .dataframe thead th {\n",
       "        text-align: right;\n",
       "    }\n",
       "</style>\n",
       "<table border=\"1\" class=\"dataframe\">\n",
       "  <thead>\n",
       "    <tr style=\"text-align: right;\">\n",
       "      <th></th>\n",
       "      <th>track_name</th>\n",
       "      <th>artist</th>\n",
       "      <th>raw_lyrics</th>\n",
       "      <th>artist_verses</th>\n",
       "      <th>verses_cleaned</th>\n",
       "      <th>verses_lemmatized</th>\n",
       "      <th>topic</th>\n",
       "      <th>pos_sentiment</th>\n",
       "      <th>neg_sentiment</th>\n",
       "      <th>word_count</th>\n",
       "      <th>words_per_min</th>\n",
       "      <th>bar_count</th>\n",
       "      <th>stop_word_count</th>\n",
       "      <th>is_featured</th>\n",
       "      <th>track_bpm</th>\n",
       "      <th>duration_min</th>\n",
       "      <th>is_explicit</th>\n",
       "    </tr>\n",
       "  </thead>\n",
       "  <tbody>\n",
       "    <tr>\n",
       "      <th>0</th>\n",
       "      <td>You Broke My Heart</td>\n",
       "      <td>Drake</td>\n",
       "      <td>Yeah Yeah Oh, baby, don't go Don't go Look Loo...</td>\n",
       "      <td>Yeah\\nYeah\\nOh, baby, don't go\\nDon't go\\nLook...</td>\n",
       "      <td>yeah yeah oh baby don't go don't go look look ...</td>\n",
       "      <td>yeah yeah oh baby go go look look note catch m...</td>\n",
       "      <td>Love</td>\n",
       "      <td>0.23</td>\n",
       "      <td>0.392</td>\n",
       "      <td>556</td>\n",
       "      <td>139.0</td>\n",
       "      <td>58</td>\n",
       "      <td>203.0</td>\n",
       "      <td>False</td>\n",
       "      <td>123.872</td>\n",
       "      <td>4.0</td>\n",
       "      <td>False</td>\n",
       "    </tr>\n",
       "  </tbody>\n",
       "</table>\n",
       "</div>"
      ],
      "text/plain": [
       "           track_name artist  \\\n",
       "0  You Broke My Heart  Drake   \n",
       "\n",
       "                                          raw_lyrics  \\\n",
       "0  Yeah Yeah Oh, baby, don't go Don't go Look Loo...   \n",
       "\n",
       "                                       artist_verses  \\\n",
       "0  Yeah\\nYeah\\nOh, baby, don't go\\nDon't go\\nLook...   \n",
       "\n",
       "                                      verses_cleaned  \\\n",
       "0  yeah yeah oh baby don't go don't go look look ...   \n",
       "\n",
       "                                   verses_lemmatized topic  pos_sentiment  \\\n",
       "0  yeah yeah oh baby go go look look note catch m...  Love           0.23   \n",
       "\n",
       "   neg_sentiment  word_count  words_per_min  bar_count  stop_word_count  \\\n",
       "0          0.392         556          139.0         58            203.0   \n",
       "\n",
       "   is_featured  track_bpm  duration_min  is_explicit  \n",
       "0        False    123.872           4.0        False  "
      ]
     },
     "execution_count": 93,
     "metadata": {},
     "output_type": "execute_result"
    }
   ],
   "source": [
    "cols = [\n",
    "    'track_name', 'artist', 'raw_lyrics', 'artist_verses', 'verses_cleaned', 'verses_lemmatized', 'topic',\n",
    "    'pos_sentiment','neg_sentiment', 'word_count', 'words_per_min', 'bar_count', 'stop_word_count', 'is_featured', \n",
    "    'track_bpm', 'duration_min', 'is_explicit',\n",
    "]\n",
    "\n",
    "df = df[cols]\n",
    "_\n",
    "df.head(1)"
   ]
  },
  {
   "cell_type": "code",
   "execution_count": 94,
   "id": "2d68acd1-fde7-47ef-a5b6-5c2edf6f3911",
   "metadata": {},
   "outputs": [],
   "source": [
    "df.to_csv('processed_data/lyrics_processed.csv', index=False)\n",
    "corpus.to_csv('processed_data/artist_corupus.csv', index=False)"
   ]
  }
 ],
 "metadata": {
  "kernelspec": {
   "display_name": "fullstack",
   "language": "python",
   "name": "fullstack"
  },
  "language_info": {
   "codemirror_mode": {
    "name": "ipython",
    "version": 3
   },
   "file_extension": ".py",
   "mimetype": "text/x-python",
   "name": "python",
   "nbconvert_exporter": "python",
   "pygments_lexer": "ipython3",
   "version": "3.11.5"
  }
 },
 "nbformat": 4,
 "nbformat_minor": 5
}
